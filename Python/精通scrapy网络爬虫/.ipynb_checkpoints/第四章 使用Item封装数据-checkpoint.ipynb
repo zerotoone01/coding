{
 "cells": [
  {
   "cell_type": "markdown",
   "metadata": {
    "collapsed": true
   },
   "source": [
    "# 第四章 使用Item封装数据\n",
    "\n",
    "* 字典\n",
    "    \n",
    "    1. 优点\n",
    "\n",
    "    2. 缺点\n",
    "    \n",
    "    \n",
    "## 4.1 Item和Field\n",
    "* scrapy提供了两个类（Item和Field）供用户自定义数据类\n",
    "\n",
    "    1. Item（基类）：自定义数据类的基类\n",
    "    2. Field类：用来描述自定义数据类包含哪些字段信息\n",
    "    \n",
    "\n",
    "*   自定义一个类，继承Item，并创建一系列的Field对象即可。  "
   ]
  },
  {
   "cell_type": "code",
   "execution_count": 1,
   "metadata": {
    "collapsed": false
   },
   "outputs": [
    {
     "name": "stdout",
     "output_type": "stream",
     "text": [
      "{'name': 'python', 'price': '56.00'}\n",
      "{}\n"
     ]
    }
   ],
   "source": [
    "from scrapy import Item, Field\n",
    "\n",
    "class BookItem(Item): #BookItem继承了Item类\n",
    "    name = Field();\n",
    "    price = Field(); \n",
    "    \n",
    "book1 = BookItem(name='python',price='56.00')\n",
    "print(book1)\n",
    "\n",
    "book2 = BookItem()\n",
    "print(book2)"
   ]
  },
  {
   "cell_type": "code",
   "execution_count": 2,
   "metadata": {
    "collapsed": false
   },
   "outputs": [
    {
     "name": "stdout",
     "output_type": "stream",
     "text": [
      "{'name': 'python2', 'price': '99.00'}\n"
     ]
    }
   ],
   "source": [
    "book2['name'] = 'python2'\n",
    "book2['price']= '99.00'\n",
    "#book2['prizz'] = '88.00' #BookItem中没有的字段信息进行赋值会报错\n",
    "print(book2)"
   ]
  },
  {
   "cell_type": "code",
   "execution_count": 6,
   "metadata": {
    "collapsed": false
   },
   "outputs": [
    {
     "name": "stdout",
     "output_type": "stream",
     "text": [
      "67.0\n"
     ]
    },
    {
     "data": {
      "text/plain": [
       "[('name', 'java'), ('price', '67.0')]"
      ]
     },
     "execution_count": 6,
     "metadata": {},
     "output_type": "execute_result"
    }
   ],
   "source": [
    "#访问BookItem对象中的字段与访问字典类似\n",
    "book = BookItem(name = 'java', price = '67.0')\n",
    "print(book.get('price'))\n",
    "list(book.items())"
   ]
  },
  {
   "cell_type": "markdown",
   "metadata": {},
   "source": [
    "## 4.2拓展Item子类\n",
    "\n",
    "可以对自定义的类进行扩展，类似java中的继承\n",
    "\n",
    "比如ForeignBookItem比BookItem多了一个翻译者的字段信息，那么ForeignBookItem可以继承BookItem,然后再增加一个字段信息即可"
   ]
  },
  {
   "cell_type": "code",
   "execution_count": 7,
   "metadata": {
    "collapsed": false
   },
   "outputs": [
    {
     "name": "stdout",
     "output_type": "stream",
     "text": [
      "{'name': '巴黎圣母院', 'price': '99.00', 'translator': '小明'}\n"
     ]
    }
   ],
   "source": [
    "class ForeignBookItem(BookItem):\n",
    "    translator = Field()\n",
    "    \n",
    "book = ForeignBookItem()\n",
    "book['name'] = '巴黎圣母院'\n",
    "book['price'] = '99.00'\n",
    "book['translator'] = '小明'\n",
    "print(book)"
   ]
  },
  {
   "cell_type": "markdown",
   "metadata": {},
   "source": [
    "## 4.3Field元数据\n",
    "* 字段信息中可以包含多个元数据"
   ]
  },
  {
   "cell_type": "code",
   "execution_count": 8,
   "metadata": {
    "collapsed": false
   },
   "outputs": [
    {
     "name": "stdout",
     "output_type": "stream",
     "text": [
      "{'x': {'a': 'hello', 'b': [1, 2, 3]}, 'y': {'a': <function ExampleItem.<lambda> at 0x000002A0912FA620>}}\n",
      "<class 'scrapy.item.Field'>\n",
      "hello\n",
      "{'a': <function ExampleItem.<lambda> at 0x000002A0912FA620>}\n"
     ]
    },
    {
     "data": {
      "text/plain": [
       "<function __main__.ExampleItem.<lambda>>"
      ]
     },
     "execution_count": 8,
     "metadata": {},
     "output_type": "execute_result"
    }
   ],
   "source": [
    "class ExampleItem(Item):\n",
    "    x = Field(a='hello',b=[1,2,3]) #字段含有两个元数据， a是字符串，b是数组\n",
    "    y = Field(a=lambda x: x**2) #字段y有一个元数据，a是一个函数\n",
    "    \n",
    "e = ExampleItem(x=100,y=200)\n",
    "print(e.fields)\n",
    "print(type(e.fields['x']))\n",
    "field_x = e.fields['x']\n",
    "print(field_x['a'])\n",
    "field_y = e.fields['y']\n",
    "print(field_y)\n",
    "field_y.get('a',lambda x:x)"
   ]
  },
  {
   "cell_type": "markdown",
   "metadata": {},
   "source": [
    "* 一个字段可能存在多个元数据，或者元数据为多个字符串，在写入文件的时候需要将多个字符串合并为一个字符串"
   ]
  },
  {
   "cell_type": "code",
   "execution_count": 10,
   "metadata": {
    "collapsed": false
   },
   "outputs": [
    {
     "name": "stdout",
     "output_type": "stream",
     "text": [
      "['李磊', '张三', '吉姆']\n"
     ]
    }
   ],
   "source": [
    "book['name'] = ['李磊','张三','吉姆']\n",
    "print(str(book['name']))"
   ]
  },
  {
   "cell_type": "code",
   "execution_count": null,
   "metadata": {
    "collapsed": true
   },
   "outputs": [],
   "source": []
  },
  {
   "cell_type": "code",
   "execution_count": null,
   "metadata": {
    "collapsed": true
   },
   "outputs": [],
   "source": []
  }
 ],
 "metadata": {
  "celltoolbar": "Raw Cell Format",
  "kernelspec": {
   "display_name": "Python 3",
   "language": "python",
   "name": "python3"
  },
  "language_info": {
   "codemirror_mode": {
    "name": "ipython",
    "version": 3
   },
   "file_extension": ".py",
   "mimetype": "text/x-python",
   "name": "python",
   "nbconvert_exporter": "python",
   "pygments_lexer": "ipython3",
   "version": "3.6.0"
  }
 },
 "nbformat": 4,
 "nbformat_minor": 2
}
